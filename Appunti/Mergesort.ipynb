{
 "cells": [
  {
   "cell_type": "markdown",
   "metadata": {},
   "source": [
    "# Merge sort\n",
    "\n",
    "è uno degli algoritmi più efficenti, poiche anche nel caso peggiore la sua velocità, per non è un'algoritmo stabile.\n",
    "\n",
    "Dividi è conquista.\n",
    "\n",
    "Il problemma principale viene diviso in problemi più piccoli, poi risolviamo questi problemi, è il caso base di questo elemento è un insieme di taglia 1 o 0, visto che sono gia ordinati.\n",
    "\n",
    "- Invetato da Neuman nel 1945\n",
    "- Richiede spazio ausiliare (O(N))\n",
    "- E' facile da implementare una versione stabile\n",
    "\n",
    "Progettazione:\n",
    "Ricorsione \"divide et tempera\"\n",
    "- Divide\n",
    "    due sottovettori SX e DX rispetto al cetro del vettore\n",
    "\n",
    "- Impera\n",
    "    merge sort sul SX\n",
    "    merge sort sul DX\n",
    "    condizione di termine con 1 (p=r) o 0 (p>r), elemento ordinato\n",
    "\n",
    "- Combinazione\n",
    "    usa merge per fondere i due sottovettori ordinati in un vettore ordinato\n",
    "\n",
    "# Merge Analisi\n",
    "\n",
    "Prende due vettori già ordinati e ne restituisce uno solo, la precondizione e che i vettori devone essere ordinati, e restituisce una Array a1+a2 elementi\n",
    "\n",
    "- Dati\n",
    "    a1,a2: i due vettori \n",
    "    n1,n2: i due indici\n",
    "    a; vettore di destinazione\n",
    "    i,j; indici\n",
    "\n",
    "Spezzando sempre a meta, avendo questo vettore , questo albero che si produce, avremmo un'albero bianrio completo di altezza logn chiamero la merge a ogni livello, per l'altezza.\n",
    "\n"
   ]
  },
  {
   "cell_type": "code",
   "execution_count": null,
   "metadata": {
    "vscode": {
     "languageId": "c"
    }
   },
   "outputs": [],
   "source": [
    "Vector Merge(vector a, vecotr b, int n1, int n2){\n",
    "    Item vettore = sizeof(n1+n2)\n",
    "    int i = 0,j = 0;\n",
    "    \n",
    "\n",
    "\n",
    "}\n"
   ]
  },
  {
   "cell_type": "markdown",
   "metadata": {},
   "source": [
    "Partiscin, prende un elemento chiamato pivot, tutti gli elementi che sono minori uguale del pivo finiscono alla sua sinistra, maggiore uguale al pivot finirà alla sua destrà.\n",
    "\n"
   ]
  }
 ],
 "metadata": {
  "language_info": {
   "name": "python"
  }
 },
 "nbformat": 4,
 "nbformat_minor": 2
}
